{
 "cells": [
  {
   "cell_type": "code",
   "execution_count": 2,
   "metadata": {
    "pycharm": {
     "is_executing": true
    }
   },
   "outputs": [],
   "source": [
    "from presentation_utils import *\n",
    "from DoD import view_4c_analysis_baseline as v4c\n",
    "import glob\n",
    "import pprint"
   ]
  },
  {
   "cell_type": "code",
   "execution_count": 3,
   "metadata": {},
   "outputs": [
    {
     "data": {
      "application/javascript": [
       "IPython.OutputArea.auto_scroll_threshold = 9999;\n"
      ],
      "text/plain": [
       "<IPython.core.display.Javascript object>"
      ]
     },
     "metadata": {},
     "output_type": "display_data"
    }
   ],
   "source": [
    "%%javascript\n",
    "IPython.OutputArea.auto_scroll_threshold = 9999;"
   ]
  },
  {
   "cell_type": "markdown",
   "metadata": {
    "pycharm": {
     "name": "#%% md\n"
    }
   },
   "source": [
    "# Config"
   ]
  },
  {
   "cell_type": "code",
   "execution_count": 4,
   "metadata": {
    "pycharm": {
     "name": "#%%\n"
    }
   },
   "outputs": [],
   "source": [
    "# directory storing the views\n",
    "dir_path = \"./chembl_result/result4/\"\n",
    "# max size of candidate key\n",
    "candidate_key_size = 2\n",
    "# sample rows to present\n",
    "sample_size = 5\n",
    "# exploration / exploitation (choose next pair to present among top_k)\n",
    "top_k = 10\n",
    "# epsilon-greedy\n",
    "epsilon = 0.1\n",
    "\n",
    "max_num_interactions = 100"
   ]
  },
  {
   "cell_type": "markdown",
   "metadata": {
    "pycharm": {
     "name": "#%% md\n"
    }
   },
   "source": [
    "# Run 4C"
   ]
  },
  {
   "cell_type": "code",
   "execution_count": 5,
   "metadata": {
    "pycharm": {
     "name": "#%%\n"
    },
    "scrolled": true
   },
   "outputs": [
    {
     "name": "stdout",
     "output_type": "stream",
     "text": [
      "Running 4C...\n",
      "Found 11 valid tables\n",
      "View candidates classify into 5 groups based on schema\n",
      "\n",
      "Num elements with schema -810468692286326092 is: 4\n"
     ]
    },
    {
     "name": "stderr",
     "output_type": "stream",
     "text": [
      "100%|██████████| 6/6 [00:00<00:00, 22.09it/s]\n",
      "0it [00:00, ?it/s]\n",
      "0it [00:00, ?it/s]\n",
      "0it [00:00, ?it/s]\n",
      "  0%|          | 0/6 [00:00<?, ?it/s]/Users/zhiruzhu/Desktop/research/aurum-dod-staging/DoD/view_4c_analysis_baseline.py:273: SettingWithCopyWarning: \n",
      "A value is trying to be set on a copy of a slice from a DataFrame.\n",
      "Try using .loc[row_indexer,col_indexer] = value instead\n",
      "\n",
      "See the caveats in the documentation: https://pandas.pydata.org/pandas-docs/stable/user_guide/indexing.html#returning-a-view-versus-a-copy\n",
      "  selection1[\"dummy_col\"] = \"\"\n",
      "/Users/zhiruzhu/Desktop/research/aurum-dod-staging/DoD/view_4c_analysis_baseline.py:274: SettingWithCopyWarning: \n",
      "A value is trying to be set on a copy of a slice from a DataFrame.\n",
      "Try using .loc[row_indexer,col_indexer] = value instead\n",
      "\n",
      "See the caveats in the documentation: https://pandas.pydata.org/pandas-docs/stable/user_guide/indexing.html#returning-a-view-versus-a-copy\n",
      "  selection2[\"dummy_col\"] = \"\"\n",
      " 50%|█████     | 3/6 [00:00<00:00, 23.54it/s]"
     ]
    },
    {
     "name": "stdout",
     "output_type": "stream",
     "text": [
      "Num elements with schema 7289721400757619846 is: 1\n",
      "Num elements with schema -3609427463666520069 is: 1\n",
      "Num elements with schema 6090849310395091736 is: 1\n",
      "Num elements with schema 388403398076202018 is: 4\n"
     ]
    },
    {
     "name": "stderr",
     "output_type": "stream",
     "text": [
      "\r",
      "100%|██████████| 6/6 [00:00<00:00, 24.98it/s]"
     ]
    },
    {
     "name": "stdout",
     "output_type": "stream",
     "text": [
      "Compatible groups:\n",
      "Contained groups:\n",
      "Contradictory groups:\n",
      "['compound_name']: ./chembl_result/result4/view_9.csv - ./chembl_result/result4/view_7.csv\n",
      "['compound_name']: ./chembl_result/result4/view_1.csv - ./chembl_result/result4/view_9.csv\n",
      "Complementary groups:\n",
      "['assay_organism', 'compound_name']: ./chembl_result/result4/view_9.csv - ./chembl_result/result4/view_7.csv\n",
      "['compound_name']: ./chembl_result/result4/view_10.csv - ./chembl_result/result4/view_7.csv\n",
      "['assay_organism', 'compound_name']: ./chembl_result/result4/view_10.csv - ./chembl_result/result4/view_7.csv\n",
      "['compound_name']: ./chembl_result/result4/view_10.csv - ./chembl_result/result4/view_9.csv\n",
      "['assay_organism', 'compound_name']: ./chembl_result/result4/view_10.csv - ./chembl_result/result4/view_9.csv\n",
      "['compound_name']: ./chembl_result/result4/view_1.csv - ./chembl_result/result4/view_7.csv\n",
      "['assay_organism', 'compound_name']: ./chembl_result/result4/view_1.csv - ./chembl_result/result4/view_7.csv\n",
      "['assay_organism', 'compound_name']: ./chembl_result/result4/view_1.csv - ./chembl_result/result4/view_9.csv\n",
      "['compound_name']: ./chembl_result/result4/view_1.csv - ./chembl_result/result4/view_10.csv\n",
      "['assay_organism', 'compound_name']: ./chembl_result/result4/view_1.csv - ./chembl_result/result4/view_10.csv\n",
      "['assay_organism', 'compound_key']: ./chembl_result/result4/view_11.csv - ./chembl_result/result4/view_8.csv\n",
      "['assay_organism', 'compound_key']: ./chembl_result/result4/view_12.csv - ./chembl_result/result4/view_8.csv\n",
      "['assay_organism', 'compound_key']: ./chembl_result/result4/view_12.csv - ./chembl_result/result4/view_11.csv\n",
      "['assay_organism', 'compound_key']: ./chembl_result/result4/view_2.csv - ./chembl_result/result4/view_8.csv\n",
      "['assay_organism', 'compound_key']: ./chembl_result/result4/view_2.csv - ./chembl_result/result4/view_11.csv\n",
      "['assay_organism', 'compound_key']: ./chembl_result/result4/view_2.csv - ./chembl_result/result4/view_12.csv\n"
     ]
    },
    {
     "name": "stderr",
     "output_type": "stream",
     "text": [
      "\n"
     ]
    }
   ],
   "source": [
    "# Run 4C\n",
    "print(\"Running 4C...\")\n",
    "\n",
    "compatible_groups, contained_groups, complementary_groups, contradictory_groups, all_pair_contr_compl = \\\n",
    "    v4c.main(dir_path, candidate_key_size)\n",
    "\n",
    "print(\"Compatible groups:\")\n",
    "for group in compatible_groups:\n",
    "    print(group)\n",
    "\n",
    "print(\"Contained groups:\")\n",
    "for group in contained_groups:\n",
    "    print(group)\n",
    "\n",
    "print(\"Contradictory groups:\")\n",
    "for path1, candidate_key_tuple, key_value_tuples, path2 in contradictory_groups:\n",
    "    print(str(list(candidate_key_tuple)) + \": \" + path1 + \" - \" + path2)\n",
    "\n",
    "print(\"Complementary groups:\")\n",
    "for path1, path2, candidate_key_tuple, _, _ in complementary_groups:\n",
    "    print(str(list(candidate_key_tuple)) + \": \" + path1 + \" - \" + path2)"
   ]
  },
  {
   "cell_type": "markdown",
   "metadata": {
    "pycharm": {
     "name": "#%% md\n"
    }
   },
   "source": [
    "# Pruning 4C views\n",
    "## Remove identical views and keep the contained view with the largest cardinality"
   ]
  },
  {
   "cell_type": "code",
   "execution_count": 6,
   "metadata": {
    "pycharm": {
     "name": "#%%\n"
    }
   },
   "outputs": [
    {
     "name": "stdout",
     "output_type": "stream",
     "text": [
      "Number of views:  13\n",
      "After pruning compatible views:  13\n",
      "After pruning contained views:  13\n"
     ]
    }
   ],
   "source": [
    "view_files = glob.glob(dir_path + \"/view_*\")\n",
    "print(\"Number of views: \", len(view_files))\n",
    "\n",
    "view_files = prune_compatible_views(view_files, compatible_groups)\n",
    "print(\"After pruning compatible views: \", len(view_files))\n",
    "\n",
    "view_files = prune_contained_views(view_files, contained_groups)\n",
    "print(\"After pruning contained views: \", len(view_files))"
   ]
  },
  {
   "cell_type": "markdown",
   "metadata": {
    "pycharm": {
     "name": "#%% md\n"
    }
   },
   "source": [
    "# Pre-processing and generating sample rows to present"
   ]
  },
  {
   "cell_type": "code",
   "execution_count": 7,
   "metadata": {},
   "outputs": [
    {
     "name": "stderr",
     "output_type": "stream",
     "text": [
      " 17%|█▋        | 2/12 [00:00<00:00, 15.37it/s]"
     ]
    },
    {
     "name": "stdout",
     "output_type": "stream",
     "text": [
      "Pre-processing...\n"
     ]
    },
    {
     "name": "stderr",
     "output_type": "stream",
     "text": [
      "100%|██████████| 12/12 [00:00<00:00, 21.43it/s]\n"
     ]
    }
   ],
   "source": [
    "print(\"Pre-processing...\")\n",
    "\n",
    "contr_or_compl_view_pairs, non_contr_or_compl_views, row_to_path_dict = preprocess(view_files, all_pair_contr_compl, sample_size)"
   ]
  },
  {
   "cell_type": "markdown",
   "metadata": {
    "pycharm": {
     "name": "#%% md\n"
    }
   },
   "source": [
    "# Actual presentation"
   ]
  },
  {
   "cell_type": "code",
   "execution_count": 9,
   "metadata": {
    "pycharm": {
     "name": "#%%\n"
    }
   },
   "outputs": [
    {
     "data": {
      "application/vnd.jupyter.widget-view+json": {
       "model_id": "44271ca28c7f436a9f9314081568a040",
       "version_major": 2,
       "version_minor": 0
      },
      "text/plain": [
       "Output()"
      ]
     },
     "metadata": {},
     "output_type": "display_data"
    }
   ],
   "source": [
    "%gui asyncio\n",
    "# Using asynchronous widgets. Requires ipykernel 4.7 or later\n",
    "# pip install ipython ipykernel --upgrade\n",
    "\n",
    "# async\n",
    "task = present_async(view_files, contr_or_compl_view_pairs, non_contr_or_compl_views, row_to_path_dict,\n",
    "                     top_k, epsilon, max_num_interactions, sample_size)\n",
    "\n",
    "# sync\n",
    "# final_view_scores, num_interactions = present(view_files, contr_or_compl_view_pairs, non_contr_or_compl_views, row_to_path_dict,\n",
    "#                                               top_k, epsilon, max_num_interactions, sample_size)"
   ]
  },
  {
   "cell_type": "markdown",
   "metadata": {
    "pycharm": {
     "name": "#%% md\n"
    }
   },
   "source": [
    "# Final view scores"
   ]
  },
  {
   "cell_type": "code",
   "execution_count": 9,
   "metadata": {
    "pycharm": {
     "name": "#%%\n"
    }
   },
   "outputs": [
    {
     "name": "stdout",
     "output_type": "stream",
     "text": [
      "Final view scores:\n",
      "[('./toytest/view_158', 10),\n",
      " ('./toytest/view_114', 7),\n",
      " ('./toytest/view_88', 6),\n",
      " ('./toytest/view_126', 6),\n",
      " ('./toytest/view_44', 4),\n",
      " ('./toytest/view_11', 4),\n",
      " ('./toytest/view_215', 0),\n",
      " ('./toytest/view_188', 0)]\n",
      "Number of interactions = 6\n"
     ]
    }
   ],
   "source": [
    "# async\n",
    "await task\n",
    "final_view_scores, num_interactions = task.result()\n",
    "\n",
    "print(\"Final view scores:\")\n",
    "pprint.pprint(final_view_scores)\n",
    "\n",
    "print(\"Number of interactions = \" + str(num_interactions))"
   ]
  },
  {
   "cell_type": "code",
   "execution_count": null,
   "metadata": {},
   "outputs": [],
   "source": []
  }
 ],
 "metadata": {
  "kernelspec": {
   "display_name": "Python 3",
   "language": "python",
   "name": "python3"
  },
  "language_info": {
   "codemirror_mode": {
    "name": "ipython",
    "version": 3
   },
   "file_extension": ".py",
   "mimetype": "text/x-python",
   "name": "python",
   "nbconvert_exporter": "python",
   "pygments_lexer": "ipython3",
   "version": "3.6.11"
  }
 },
 "nbformat": 4,
 "nbformat_minor": 1
}