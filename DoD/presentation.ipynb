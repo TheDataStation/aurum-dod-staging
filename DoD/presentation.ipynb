{
 "cells": [
  {
   "cell_type": "code",
   "execution_count": null,
   "metadata": {},
   "outputs": [],
   "source": [
    "from presentation_utils import *\n",
    "from DoD import view_4c_analysis_baseline as v4c\n",
    "import glob\n",
    "import pprint"
   ]
  },
  {
   "cell_type": "code",
   "execution_count": null,
   "metadata": {},
   "outputs": [],
   "source": [
    "%%javascript\n",
    "IPython.OutputArea.auto_scroll_threshold = 9999;"
   ]
  },
  {
   "cell_type": "markdown",
   "metadata": {
    "pycharm": {
     "name": "#%% md\n"
    }
   },
   "source": [
    "# Config"
   ]
  },
  {
   "cell_type": "code",
   "execution_count": null,
   "metadata": {
    "pycharm": {
     "name": "#%%\n"
    }
   },
   "outputs": [],
   "source": [
    "# directory storing the views\n",
    "dir_path = \"./toytest/\"\n",
    "# max size of candidate key\n",
    "candidate_key_size = 2\n",
    "# sample rows to present\n",
    "sample_size = 5\n",
    "# exploration / exploitation (choose next pair to present among top_k)\n",
    "top_k = 10\n",
    "# epsilon-greedy\n",
    "epsilon = 0.1\n",
    "\n",
    "max_num_interactions = 1000"
   ]
  },
  {
   "cell_type": "markdown",
   "metadata": {
    "pycharm": {
     "name": "#%% md\n"
    }
   },
   "source": [
    "# Run 4C"
   ]
  },
  {
   "cell_type": "code",
   "execution_count": null,
   "metadata": {
    "pycharm": {
     "name": "#%%\n"
    },
    "scrolled": true
   },
   "outputs": [],
   "source": [
    "# Run 4C\n",
    "print(\"Running 4C...\")\n",
    "\n",
    "compatible_groups, contained_groups, complementary_groups, contradictory_groups, all_pair_contr_compl = \\\n",
    "    v4c.main(dir_path, candidate_key_size)\n",
    "\n",
    "print(\"Compatible groups:\")\n",
    "for group in compatible_groups:\n",
    "    print(group)\n",
    "\n",
    "print(\"Contained groups:\")\n",
    "for group in contained_groups:\n",
    "    print(group)\n",
    "\n",
    "print(\"Contradictory groups:\")\n",
    "for path1, candidate_key_tuple, key_value_tuples, path2 in contradictory_groups:\n",
    "    print(str(list(candidate_key_tuple)) + \": \" + path1 + \" - \" + path2)\n",
    "\n",
    "print(\"Complementary groups:\")\n",
    "for path1, path2, candidate_key_tuple, _, _ in complementary_groups:\n",
    "    print(str(list(candidate_key_tuple)) + \": \" + path1 + \" - \" + path2)"
   ]
  },
  {
   "cell_type": "markdown",
   "metadata": {
    "pycharm": {
     "name": "#%% md\n"
    }
   },
   "source": [
    "# Pruning 4C views\n",
    "## Remove identical views and keep the contained view with the largest cardinality"
   ]
  },
  {
   "cell_type": "code",
   "execution_count": null,
   "metadata": {
    "pycharm": {
     "name": "#%%\n"
    }
   },
   "outputs": [],
   "source": [
    "view_files = glob.glob(dir_path + \"/view_*\")\n",
    "print(\"Number of views: \", len(view_files))\n",
    "\n",
    "view_files = prune_compatible_views(view_files, compatible_groups)\n",
    "print(\"After pruning compatible views: \", len(view_files))\n",
    "\n",
    "view_files = prune_contained_views(view_files, contained_groups)\n",
    "print(\"After pruning contained views: \", len(view_files))"
   ]
  },
  {
   "cell_type": "markdown",
   "metadata": {
    "pycharm": {
     "name": "#%% md\n"
    }
   },
   "source": [
    "# Pre-processing and generating sample rows to present"
   ]
  },
  {
   "cell_type": "code",
   "execution_count": null,
   "metadata": {},
   "outputs": [],
   "source": [
    "print(\"Pre-processing...\")\n",
    "\n",
    "contr_or_compl_view_pairs, non_contr_or_compl_views, row_to_path_dict = preprocess(view_files, all_pair_contr_compl, sample_size)"
   ]
  },
  {
   "cell_type": "markdown",
   "metadata": {
    "pycharm": {
     "name": "#%% md\n"
    }
   },
   "source": [
    "# Actual presentation"
   ]
  },
  {
   "cell_type": "code",
   "execution_count": null,
   "metadata": {
    "pycharm": {
     "name": "#%%\n"
    }
   },
   "outputs": [],
   "source": [
    "%gui asyncio\n",
    "# Using asynchronous widgets. Requires ipykernel 4.7 or later\n",
    "# pip install ipython ipykernel --upgrade\n",
    "\n",
    "# async\n",
    "task = present_async(view_files, contr_or_compl_view_pairs, non_contr_or_compl_views, row_to_path_dict,\n",
    "                     top_k, epsilon, max_num_interactions)\n",
    "\n",
    "# sync\n",
    "# final_view_scores, num_interactions = present(view_files, contr_or_compl_view_pairs, non_contr_or_compl_views, row_to_path_dict,\n",
    "#                                               top_k, epsilon, max_num_interactions)"
   ]
  },
  {
   "cell_type": "markdown",
   "metadata": {
    "pycharm": {
     "name": "#%% md\n"
    }
   },
   "source": [
    "# Final view scores"
   ]
  },
  {
   "cell_type": "code",
   "execution_count": null,
   "metadata": {
    "pycharm": {
     "name": "#%%\n"
    }
   },
   "outputs": [],
   "source": [
    "# async\n",
    "await task\n",
    "final_view_scores, num_interactions = task.result()\n",
    "\n",
    "print(\"Final view scores:\")\n",
    "pprint.pprint(final_view_scores)\n",
    "\n",
    "print(\"Number of interactions = \" + str(num_interactions))"
   ]
  }
 ],
 "metadata": {
  "kernelspec": {
   "display_name": "Python 3",
   "language": "python",
   "name": "python3"
  },
  "language_info": {
   "codemirror_mode": {
    "name": "ipython",
    "version": 3
   },
   "file_extension": ".py",
   "mimetype": "text/x-python",
   "name": "python",
   "nbconvert_exporter": "python",
   "pygments_lexer": "ipython3",
   "version": "3.6.11"
  }
 },
 "nbformat": 4,
 "nbformat_minor": 1
}