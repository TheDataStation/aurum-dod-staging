{
 "cells": [
  {
   "cell_type": "code",
   "execution_count": 1,
   "metadata": {},
   "outputs": [],
   "source": [
    "from DoD import column_infer\n",
    "from DoD.view_search_pruning import ViewSearchPruning\n",
    "from knowledgerepr import fieldnetwork\n",
    "from modelstore.elasticstore import StoreHandler\n",
    "\n",
    "model_path = \"/Users/gongyue/aurum-datadiscovery/test/advwModels/\"\n",
    "output_path = \"/Users/gongyue/aurum-datadiscovery/test/advwResult/\"\n",
    "sep = \",\"\n",
    "\n",
    "store_client = StoreHandler()\n",
    "network = fieldnetwork.deserialize_network(model_path)\n",
    "columnInfer = column_infer.ColumnInfer(network=network, store_client=store_client, csv_separator=sep)\n",
    "viewSearch = ViewSearchPruning(network=network, store_client=store_client, csv_separator=sep)"
   ]
  },
  {
   "cell_type": "code",
   "execution_count": 2,
   "metadata": {},
   "outputs": [
    {
     "data": {
      "application/vnd.jupyter.widget-view+json": {
       "model_id": "51ede68f515c4b57929b1393a285ca4d",
       "version_major": 2,
       "version_minor": 0
      },
      "text/plain": [
       "HBox(children=(Button(description='Add Column', style=ButtonStyle()), Button(description='Remove Column', styl…"
      ]
     },
     "metadata": {},
     "output_type": "display_data"
    },
    {
     "data": {
      "application/vnd.jupyter.widget-view+json": {
       "model_id": "473093ffb0ea4a42a810c6db640751c3",
       "version_major": 2,
       "version_minor": 0
      },
      "text/plain": [
       "Output()"
      ]
     },
     "metadata": {},
     "output_type": "display_data"
    },
    {
     "data": {
      "application/vnd.jupyter.widget-view+json": {
       "model_id": "cbf7b1c868ff4c4a953000b80ca7d9e8",
       "version_major": 2,
       "version_minor": 0
      },
      "text/plain": [
       "Button(description='Confirm', style=ButtonStyle())"
      ]
     },
     "metadata": {},
     "output_type": "display_data"
    }
   ],
   "source": [
    "import ipywidgets as widgets\n",
    "from IPython.display import display, clear_output\n",
    "\n",
    "row_num = 4\n",
    "col_num = 3\n",
    "default_values = [\n",
    "            [\"\", \"\", \"\"],\n",
    "            [\"Amy\", \"Alberts\", \"European Sales Manager\"],\n",
    "            [\"Ryan\", \"Cornelsen\", \"Production Technician - WC40\"],\n",
    "            [\"Gary\", \"Altman\", \"Facilities Manager\"]]\n",
    "attr_style = \"<style>.attr input { background-color:#D0F0D0 !important; }</style>\"\n",
    "x = [[widgets.Text(value=default_values[i][j]) for j in range(col_num)] for i in range(row_num)]\n",
    "\n",
    "out = widgets.Output()\n",
    "\n",
    "@out.capture()\n",
    "def draw():\n",
    "    attr_line = [widgets.HTML(attr_style)]\n",
    "    attr_line.extend([item.add_class('attr') for item in x[0]])\n",
    "    attrs = widgets.HBox(attr_line)\n",
    "    display(widgets.VBox([attrs]+[widgets.HBox(x[i]) for i in range(1, row_num)]))\n",
    "    \n",
    "@out.capture()\n",
    "def add_column(_):\n",
    "    global col_num\n",
    "    col_num += 1\n",
    "    for i in range(row_num):\n",
    "        x[i].append(widgets.Text())\n",
    "    clear_output()\n",
    "    draw()\n",
    "@out.capture()\n",
    "def remove_column(_):\n",
    "    global col_num\n",
    "    for i in range(row_num):\n",
    "        w = x[i].pop()\n",
    "        w.close()\n",
    "    col_num -= 1\n",
    "    clear_output()\n",
    "    draw()\n",
    "@out.capture()\n",
    "def add_row(_):\n",
    "    global row_num\n",
    "    row_num += 1\n",
    "    x.append([widgets.Text() for _ in range(col_num)])\n",
    "    clear_output()\n",
    "    draw()\n",
    "@out.capture()\n",
    "def remove_row(_):\n",
    "    global row_num\n",
    "    ws = x.pop()\n",
    "    for w in ws:\n",
    "        w.close()\n",
    "    row_num -= 1\n",
    "    clear_output()\n",
    "    draw()\n",
    "def confirm(_):\n",
    "    global values\n",
    "    global attrs\n",
    "    values = []\n",
    "    attrs = []\n",
    "    for i in range(row_num):\n",
    "        row = []\n",
    "        for j in range(col_num):\n",
    "            if i == 0:\n",
    "                attrs.append(x[i][j].value)\n",
    "            else:\n",
    "                row.append(x[i][j].value)\n",
    "        if i != 0:\n",
    "            values.append(row)\n",
    "button1 = widgets.Button(description=\"Add Column\")\n",
    "button2 = widgets.Button(description=\"Remove Column\")\n",
    "button3 = widgets.Button(description=\"Add Row\")\n",
    "button4 = widgets.Button(description=\"Remove Row\")\n",
    "button5 = widgets.Button(description=\"Confirm\")\n",
    "button1.on_click(add_column)\n",
    "button2.on_click(remove_column)\n",
    "button3.on_click(add_row)\n",
    "button4.on_click(remove_row)\n",
    "button5.on_click(confirm)\n",
    "\n",
    "display(widgets.HBox([button1, button2, button3, button4]))\n",
    "draw()\n",
    "display(out)\n",
    "display(button5)\n"
   ]
  },
  {
   "cell_type": "code",
   "execution_count": 3,
   "metadata": {},
   "outputs": [],
   "source": [
    "column_clusters = columnInfer.get_clusters(attrs, values, types=[])\n",
    "\n",
    "col_values = {}\n",
    "for (idx, clusters) in enumerate(column_clusters):\n",
    "    col_values[clusters[0][\"name\"]] = [row[idx] for row in values]"
   ]
  },
  {
   "cell_type": "code",
   "execution_count": 4,
   "metadata": {},
   "outputs": [
    {
     "data": {
      "application/vnd.jupyter.widget-view+json": {
       "model_id": "af7e0183e3af4f9bbcb7eebacab6b147",
       "version_major": 2,
       "version_minor": 0
      },
      "text/plain": [
       "HBox(children=(Button(description='Prev', style=ButtonStyle()), Button(description='Next', style=ButtonStyle()…"
      ]
     },
     "metadata": {},
     "output_type": "display_data"
    },
    {
     "data": {
      "application/vnd.jupyter.widget-view+json": {
       "model_id": "4900165b66514af69386a85057c38018",
       "version_major": 2,
       "version_minor": 0
      },
      "text/plain": [
       "Output()"
      ]
     },
     "metadata": {},
     "output_type": "display_data"
    }
   ],
   "source": [
    "from DoD.utils import FilterType\n",
    "\n",
    "output = widgets.Output()\n",
    "c_id = 0\n",
    "filter_drs = {}\n",
    "\n",
    "@output.capture()\n",
    "def initial_show():\n",
    "    columnInfer.show_clusters(column_clusters[0], filter_drs, viewSearch, 0)\n",
    "    \n",
    "@output.capture()\n",
    "def on_button_next(b):\n",
    "    global c_id\n",
    "    clear_output()\n",
    "    c_id = min(len(column_clusters)-1, c_id + 1)\n",
    "    columnInfer.show_clusters(column_clusters[c_id], filter_drs, viewSearch, c_id)\n",
    "    \n",
    "@output.capture()\n",
    "def on_button_prev(b):\n",
    "    global c_id\n",
    "    clear_output()\n",
    "    c_id = max(0, c_id - 1)\n",
    "    columnInfer.show_clusters(column_clusters[c_id], filter_drs, viewSearch, c_id)\n",
    "\n",
    "button_next = widgets.Button(description=\"Next\")\n",
    "button_prev = widgets.Button(description=\"Prev\")\n",
    "display(widgets.HBox([button_prev, button_next]))\n",
    "button_next.on_click(on_button_next)\n",
    "button_prev.on_click(on_button_prev)\n",
    "initial_show()\n",
    "display(output)"
   ]
  },
  {
   "cell_type": "code",
   "execution_count": 263,
   "metadata": {},
   "outputs": [
    {
     "name": "stdout",
     "output_type": "stream",
     "text": [
      "\n",
      "Candidate group: ['Person.csv', 'Employee.csv']\n",
      "Covers #Filters: 3\n",
      "HIT!\n",
      "Finished enumerating groups\n"
     ]
    },
    {
     "data": {
      "application/vnd.jupyter.widget-view+json": {
       "model_id": "36e84d7541984c17a72dee4c55372959",
       "version_major": 2,
       "version_minor": 0
      },
      "text/plain": [
       "HBox(children=(Button(description='Prev', style=ButtonStyle()), Button(description='Next', style=ButtonStyle()…"
      ]
     },
     "metadata": {},
     "output_type": "display_data"
    },
    {
     "data": {
      "application/vnd.jupyter.widget-view+json": {
       "model_id": "4fae3a0454714603b7b53a4bb19645ae",
       "version_major": 2,
       "version_minor": 0
      },
      "text/plain": [
       "Output()"
      ]
     },
     "metadata": {},
     "output_type": "display_data"
    },
    {
     "name": "stdout",
     "output_type": "stream",
     "text": [
      "total views: 1\n"
     ]
    }
   ],
   "source": [
    "from DoD import data_processing_utils as dpu\n",
    "\n",
    "view_metadata_mapping = dict()\n",
    "view_id = 0\n",
    "perf_stats = dict()\n",
    "k = 10\n",
    "output = widgets.Output()\n",
    "\n",
    "views = []\n",
    "for mjp, attrs_project, metadata, join_path in viewSearch.virtual_schema_iterative_search(col_values, filter_drs, perf_stats, max_hops=2,\n",
    "                                                                               debug_enumerate_all_jps=False, offset=k):\n",
    "        proj_view = dpu.project(mjp, attrs_project)\n",
    "        views.append((proj_view, join_path))\n",
    "        \n",
    "@output.capture()\n",
    "def initial_show_view():\n",
    "    display(views[0][0])\n",
    "    print(views[0][1])\n",
    "    \n",
    "@output.capture()\n",
    "def on_button_next_view(b):\n",
    "    global view_id\n",
    "    clear_output()\n",
    "    view_id = min(len(views)-1, view_id + 1)\n",
    "    display(views[view_id][0])\n",
    "    print(views[view_id][1])\n",
    "    \n",
    "@output.capture()\n",
    "def on_button_prev_view(b):\n",
    "    global view_id\n",
    "    clear_output()\n",
    "    view_id = max(0, view_id - 1)\n",
    "    display(views[view_id][0])\n",
    "    print(views[view_id][1])\n",
    "    \n",
    "button_next_2 = widgets.Button(description=\"Next\")\n",
    "button_prev_2 = widgets.Button(description=\"Prev\")\n",
    "display(widgets.HBox([button_prev_2, button_next_2]))\n",
    "button_next_2.on_click(on_button_next_view)\n",
    "button_prev_2.on_click(on_button_prev_view)\n",
    "initial_show_view()\n",
    "display(output)\n",
    "print(\"total views:\", len(views))"
   ]
  }
 ],
 "metadata": {
  "kernelspec": {
   "display_name": ".venv",
   "language": "python",
   "name": ".venv"
  },
  "language_info": {
   "codemirror_mode": {
    "name": "ipython",
    "version": 3
   },
   "file_extension": ".py",
   "mimetype": "text/x-python",
   "name": "python",
   "nbconvert_exporter": "python",
   "pygments_lexer": "ipython3",
   "version": "3.6.4"
  }
 },
 "nbformat": 4,
 "nbformat_minor": 4
}
