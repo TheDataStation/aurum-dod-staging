{
 "cells": [
  {
   "cell_type": "code",
   "execution_count": 4,
   "metadata": {},
   "outputs": [],
   "source": [
    "from DoD import column_infer\n",
    "from DoD.view_search_pruning import ViewSearchPruning\n",
    "from knowledgerepr import fieldnetwork\n",
    "from modelstore.elasticstore import StoreHandler\n",
    "\n",
    "model_path = \"/Users/gongyue/aurum-datadiscovery/test/advwModels/\"\n",
    "output_path = \"/Users/gongyue/aurum-datadiscovery/test/advwResult/\"\n",
    "sep = \",\"\n",
    "\n",
    "store_client = StoreHandler()\n",
    "network = fieldnetwork.deserialize_network(model_path)\n",
    "columnInfer = column_infer.ColumnInfer(network=network, store_client=store_client, csv_separator=sep)\n",
    "viewSearch = ViewSearchPruning(network=network, store_client=store_client, csv_separator=sep)"
   ]
  },
  {
   "cell_type": "code",
   "execution_count": 5,
   "metadata": {},
   "outputs": [],
   "source": [
    "attrs = [\"\", \"\", \"\"]\n",
    "values = [[\"Amy\", \"Alberts\", \"European Sales Manager\"],\n",
    "            [\"Ryan\", \"Cornelsen\", \"Production Technician - WC40\"],\n",
    "            [\"Gary\", \"Altman\", \"Facilities Manager\"]]\n",
    "types = [\"\", \"\"]\n",
    "column_clusters = columnInfer.get_clusters(attrs, values, types)\n",
    "\n",
    "col_values = {}\n",
    "for (idx, clusters) in enumerate(column_clusters):\n",
    "    col_values[clusters[0][\"name\"]] = [row[idx] for row in values]"
   ]
  },
  {
   "cell_type": "code",
   "execution_count": 6,
   "metadata": {},
   "outputs": [
    {
     "data": {
      "text/plain": [
       "HBox(children=(Button(description='Prev', style=ButtonStyle()), Button(description='Next', style=ButtonStyle()…"
      ]
     },
     "metadata": {},
     "output_type": "display_data"
    },
    {
     "data": {
      "text/plain": [
       "Output()"
      ]
     },
     "metadata": {},
     "output_type": "display_data"
    }
   ],
   "source": [
    "from DoD.utils import FilterType\n",
    "\n",
    "import ipywidgets as widgets\n",
    "from IPython.display import display, clear_output\n",
    "\n",
    "output = widgets.Output()\n",
    "c_id = 0\n",
    "filter_drs = {}\n",
    "\n",
    "@output.capture()\n",
    "def initial_show():\n",
    "    columnInfer.show_clusters(column_clusters[0], filter_drs, viewSearch, 0)\n",
    "    \n",
    "@output.capture()\n",
    "def on_button_next(b):\n",
    "    global c_id\n",
    "    clear_output()\n",
    "    c_id = min(len(column_clusters)-1, c_id + 1)\n",
    "    columnInfer.show_clusters(column_clusters[c_id], filter_drs, viewSearch, c_id)\n",
    "    \n",
    "@output.capture()\n",
    "def on_button_prev(b):\n",
    "    global c_id\n",
    "    clear_output()\n",
    "    c_id = max(0, c_id - 1)\n",
    "    columnInfer.show_clusters(column_clusters[c_id], filter_drs, viewSearch, c_id)\n",
    "\n",
    "button_next = widgets.Button(description=\"Next\")\n",
    "button_prev = widgets.Button(description=\"Prev\")\n",
    "display(widgets.HBox([button_prev, button_next]))\n",
    "button_next.on_click(on_button_next)\n",
    "button_prev.on_click(on_button_prev)\n",
    "initial_show()\n",
    "display(output)"
   ]
  },
  {
   "cell_type": "code",
   "execution_count": 7,
   "metadata": {},
   "outputs": [
    {
     "name": "stdout",
     "output_type": "stream",
     "text": [
      "\n",
      "Candidate group: ['Person.csv', 'Employee.csv']\n",
      "Covers #Filters: 3\n",
      "\n",
      "Finding paths between Person.csv and Employee.csv\n",
      "max hops: 2\n",
      "Total time: 0.004813194274902344\n",
      "\n",
      "Candidate group: ['Address.csv', 'Employee.csv']\n",
      "Covers #Filters: 3\n",
      "\n",
      "Finding paths between Address.csv and Employee.csv\n",
      "max hops: 2\n",
      "Total time: 0.009408950805664062\n",
      "Finished enumerating groups\n"
     ]
    },
    {
     "data": {
      "text/plain": [
       "HBox(children=(Button(description='Prev', style=ButtonStyle()), Button(description='Next', style=ButtonStyle()…"
      ]
     },
     "metadata": {},
     "output_type": "display_data"
    },
    {
     "data": {
      "text/plain": [
       "Output()"
      ]
     },
     "metadata": {},
     "output_type": "display_data"
    },
    {
     "name": "stdout",
     "output_type": "stream",
     "text": [
      "total views: 2\n"
     ]
    }
   ],
   "source": [
    "from DoD import data_processing_utils as dpu\n",
    "\n",
    "view_metadata_mapping = dict()\n",
    "view_id = 0\n",
    "perf_stats = dict()\n",
    "k = 10\n",
    "output = widgets.Output()\n",
    "\n",
    "views = []\n",
    "for mjp, attrs_project, metadata, join_path in viewSearch.virtual_schema_iterative_search(col_values, filter_drs, perf_stats, max_hops=2,\n",
    "                                                                               debug_enumerate_all_jps=False, offset=k):\n",
    "        proj_view = dpu.project(mjp, attrs_project)\n",
    "        views.append((proj_view, join_path))\n",
    "        \n",
    "@output.capture()\n",
    "def initial_show_view():\n",
    "    display(views[0][0])\n",
    "    print(views[0][1])\n",
    "    \n",
    "@output.capture()\n",
    "def on_button_next_view(b):\n",
    "    global view_id\n",
    "    clear_output()\n",
    "    view_id = min(len(views)-1, view_id + 1)\n",
    "    display(views[view_id][0])\n",
    "    print(views[view_id][1])\n",
    "    \n",
    "@output.capture()\n",
    "def on_button_prev_view(b):\n",
    "    global view_id\n",
    "    clear_output()\n",
    "    view_id = max(0, view_id - 1)\n",
    "    display(views[view_id][0])\n",
    "    print(views[view_id][1])\n",
    "    \n",
    "button_next_2 = widgets.Button(description=\"Next\")\n",
    "button_prev_2 = widgets.Button(description=\"Prev\")\n",
    "display(widgets.HBox([button_prev_2, button_next_2]))\n",
    "button_next_2.on_click(on_button_next_view)\n",
    "button_prev_2.on_click(on_button_prev_view)\n",
    "initial_show_view()\n",
    "display(output)\n",
    "print(\"total views:\", len(views))"
   ]
  },
  {
   "cell_type": "code",
   "execution_count": null,
   "metadata": {},
   "outputs": [],
   "source": []
  }
 ],
 "metadata": {
  "kernelspec": {
   "display_name": ".venv",
   "language": "python",
   "name": ".venv"
  },
  "language_info": {
   "codemirror_mode": {
    "name": "ipython",
    "version": 3
   },
   "file_extension": ".py",
   "mimetype": "text/x-python",
   "name": "python",
   "nbconvert_exporter": "python",
   "pygments_lexer": "ipython3",
   "version": "3.6.4"
  }
 },
 "nbformat": 4,
 "nbformat_minor": 4
}
